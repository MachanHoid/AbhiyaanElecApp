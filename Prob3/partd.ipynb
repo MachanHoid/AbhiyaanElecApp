{
 "cells": [
  {
   "attachments": {},
   "cell_type": "markdown",
   "metadata": {},
   "source": [
    "### Part D\n",
    "We first process each frame to binary"
   ]
  },
  {
   "cell_type": "code",
   "execution_count": 9,
   "metadata": {},
   "outputs": [],
   "source": [
    "frame1 = bin(0x127D555503876B92FF)\n",
    "frame2 = bin(0x127EAAAA046798B912FF)\n",
    "frame3 = bin(0x27EAAAA059867F922FF)\n",
    "\n",
    "frames = [frame1, frame2, frame3]\n",
    "n_s = [((len(frame))//4 + 1)*4 for frame in frames ]\n",
    "processed_frames = [frames[i][2:].rjust(n_s[i], '0') for i in range(len(frames))]"
   ]
  },
  {
   "attachments": {},
   "cell_type": "markdown",
   "metadata": {},
   "source": [
    "We define the decode() function to iterate through the frame and pick out the id and data and ensure all other forms are as expected"
   ]
  },
  {
   "cell_type": "code",
   "execution_count": 5,
   "metadata": {},
   "outputs": [],
   "source": [
    "def decode(frame):\n",
    "    pointer = 0\n",
    "    id = ''\n",
    "    if frame[pointer] != '0':\n",
    "        print('Start of frame bit error')\n",
    "    pointer +=1\n",
    "\n",
    "    for i in range(11):\n",
    "        id += frame[pointer]\n",
    "        pointer +=1\n",
    "\n",
    "    if frame[pointer] != '1':\n",
    "        print('SRR bit error')\n",
    "    pointer +=1\n",
    "    \n",
    "    if frame[pointer] != '1':\n",
    "        print('IDE bit error')\n",
    "    pointer +=1\n",
    "\n",
    "    for i in range(18):\n",
    "        id += frame[pointer]\n",
    "        pointer +=1\n",
    "    \n",
    "\n",
    "    if frame[pointer] != '0':\n",
    "        print('It is not a data frame')\n",
    "    pointer +=1\n",
    "\n",
    "    pointer += 2 # reserved bits we dont care about\n",
    "\n",
    "    num_bytes = int(frame[pointer: pointer+4], 2)\n",
    "    pointer +=4\n",
    "\n",
    "    data = frame[pointer: pointer+(num_bytes*8)]\n",
    "    pointer += (num_bytes*8)\n",
    "\n",
    "    crc = frame[pointer: pointer+15]\n",
    "    pointer +=15\n",
    "\n",
    "    if frame[pointer] != '1':\n",
    "        print('crc delimiter error')\n",
    "    pointer +=1\n",
    "\n",
    "    pointer +=1 #ack slot, we dont care about this for the scope of the question\n",
    "\n",
    "    if frame[pointer] != '1':\n",
    "        print('ack delimiter error')\n",
    "    pointer +=1\n",
    "\n",
    "    if frame[pointer: pointer +7] != '1111111':\n",
    "        print('end of frame error')\n",
    "    pointer +=7\n",
    "\n",
    "    return id, data\n",
    "    "
   ]
  },
  {
   "attachments": {},
   "cell_type": "markdown",
   "metadata": {},
   "source": [
    "We print the id and data for each frame."
   ]
  },
  {
   "cell_type": "code",
   "execution_count": 10,
   "metadata": {},
   "outputs": [
    {
     "name": "stdout",
     "output_type": "stream",
     "text": [
      "Frame 1:\n",
      "ID: 00100100111010101010101010101\n",
      "Data: 11000011\n",
      "Frame 2:\n",
      "ID: 00100100111101010101010101010\n",
      "Data: 0011001111001100\n",
      "Frame 3:\n",
      "ID: 00000100111101010101010101010\n",
      "Data: 1100110000110011\n"
     ]
    }
   ],
   "source": [
    "for i in range(3):\n",
    "    id, data = decode(processed_frames[i])\n",
    "    print(f'Frame {i+1}:')\n",
    "    print(f'ID: {id}')\n",
    "    print(f'Data: {data}')\n"
   ]
  },
  {
   "attachments": {},
   "cell_type": "markdown",
   "metadata": {},
   "source": [
    "Looking at this we can say the priority order of frame 3 > frame 1 > frame 2."
   ]
  }
 ],
 "metadata": {
  "kernelspec": {
   "display_name": "Python 3",
   "language": "python",
   "name": "python3"
  },
  "language_info": {
   "codemirror_mode": {
    "name": "ipython",
    "version": 3
   },
   "file_extension": ".py",
   "mimetype": "text/x-python",
   "name": "python",
   "nbconvert_exporter": "python",
   "pygments_lexer": "ipython3",
   "version": "3.11.1"
  },
  "orig_nbformat": 4
 },
 "nbformat": 4,
 "nbformat_minor": 2
}
