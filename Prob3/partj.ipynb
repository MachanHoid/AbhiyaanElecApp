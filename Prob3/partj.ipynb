{
 "cells": [
  {
   "attachments": {},
   "cell_type": "markdown",
   "metadata": {},
   "source": [
    "### Part J\n",
    "We first process each frame to binary and decode it through the decoder from part D with slight modifications"
   ]
  },
  {
   "attachments": {},
   "cell_type": "markdown",
   "metadata": {},
   "source": [
    "We define the decode() function to iterate through the frame and pick out the id, data and crc checksums, and ensure all other forms are as expected"
   ]
  },
  {
   "cell_type": "code",
   "execution_count": 17,
   "metadata": {},
   "outputs": [],
   "source": [
    "def decode(frame):\n",
    "    frame = bin(frame)[2:]\n",
    "    n_s = (len(frame)//4 + 1)*4 \n",
    "    frame = frame.rjust(n_s, '0')\n",
    "    pointer = 0\n",
    "    id = ''\n",
    "    if frame[pointer] != '0':\n",
    "        print('Start of frame bit error')\n",
    "    pointer +=1\n",
    "\n",
    "    for i in range(11):\n",
    "        id += frame[pointer]\n",
    "        pointer +=1\n",
    "\n",
    "    if frame[pointer] != '1':\n",
    "        print('SRR bit error')\n",
    "    pointer +=1\n",
    "    \n",
    "    if frame[pointer] != '1':\n",
    "        print('IDE bit error')\n",
    "    pointer +=1\n",
    "\n",
    "    for i in range(18):\n",
    "        id += frame[pointer]\n",
    "        pointer +=1\n",
    "    \n",
    "\n",
    "    if frame[pointer] != '0':\n",
    "        print('It is not a data frame')\n",
    "    pointer +=1\n",
    "\n",
    "    pointer += 2 # reserved bits we dont care about\n",
    "\n",
    "    num_bytes = int(frame[pointer: pointer+4], 2)\n",
    "    pointer +=4\n",
    "\n",
    "    data = frame[pointer: pointer+(num_bytes*8)]\n",
    "    pointer += (num_bytes*8)\n",
    "\n",
    "    crc = frame[pointer: pointer+15]\n",
    "    pointer +=15\n",
    "\n",
    "    if frame[pointer] != '1':\n",
    "        print('crc delimiter error')\n",
    "    pointer +=1\n",
    "\n",
    "    ack = frame[pointer]\n",
    "    pointer +=1 \n",
    "\n",
    "    if frame[pointer] != '1':\n",
    "        print('ack delimiter error')\n",
    "    pointer +=1\n",
    "\n",
    "    if frame[pointer: pointer +7] != '1111111':\n",
    "        print('end of frame error')\n",
    "    pointer +=7\n",
    "\n",
    "    return id, data, crc, ack\n",
    "    "
   ]
  },
  {
   "cell_type": "code",
   "execution_count": 18,
   "metadata": {},
   "outputs": [],
   "source": [
    "id1, data1, crc1, ack1 = decode(0x527EAAAA0618B3200003FF)\n",
    "id2, data2, crc2, ack2 = decode(0x527EAAAA063166400002FF)"
   ]
  },
  {
   "cell_type": "code",
   "execution_count": 27,
   "metadata": {},
   "outputs": [
    {
     "name": "stdout",
     "output_type": "stream",
     "text": [
      "000000000000000\n",
      "000000000000000\n"
     ]
    }
   ],
   "source": [
    "print(crc1, crc2, sep = '\\n')"
   ]
  },
  {
   "cell_type": "code",
   "execution_count": 20,
   "metadata": {},
   "outputs": [
    {
     "name": "stdout",
     "output_type": "stream",
     "text": [
      "000011000101100110010000\n",
      "000110001011001100100000\n"
     ]
    }
   ],
   "source": [
    "print(data1, data2, sep = '\\n')"
   ]
  },
  {
   "attachments": {},
   "cell_type": "markdown",
   "metadata": {},
   "source": [
    "We have gotten all the data from the frames, now let us see what happens when we check if our data is correct using the crc. The data is obviously different, so we should expect an error to occur."
   ]
  },
  {
   "cell_type": "code",
   "execution_count": 23,
   "metadata": {},
   "outputs": [],
   "source": [
    "generating_poly_binary = '1100010110011001' # this is the binary representation of the generating polynomial"
   ]
  },
  {
   "attachments": {},
   "cell_type": "markdown",
   "metadata": {},
   "source": [
    "From the underlying principal of CRC, we expect to get a reminder of 0 when we divide the data with crc bits added by the generating polynomial"
   ]
  },
  {
   "cell_type": "code",
   "execution_count": 32,
   "metadata": {},
   "outputs": [
    {
     "data": {
      "text/plain": [
       "0"
      ]
     },
     "execution_count": 32,
     "metadata": {},
     "output_type": "execute_result"
    }
   ],
   "source": [
    "print(int(data1 + crc1, 2) % int(generating_poly_binary, 2))"
   ]
  },
  {
   "attachments": {},
   "cell_type": "markdown",
   "metadata": {},
   "source": [
    "The original data gives zero as expected,"
   ]
  },
  {
   "cell_type": "code",
   "execution_count": 33,
   "metadata": {},
   "outputs": [
    {
     "name": "stdout",
     "output_type": "stream",
     "text": [
      "0\n"
     ]
    }
   ],
   "source": [
    "print(int(data2 + crc2, 2) % int(generating_poly_binary, 2))"
   ]
  },
  {
   "attachments": {},
   "cell_type": "markdown",
   "metadata": {},
   "source": [
    "We expect to get a non zero answer here, because the data has been changed and errors have occured, but in this case our CRC fails to detect this and gives a reminder of 0.  We want to find the likelihood of this happening."
   ]
  },
  {
   "cell_type": "code",
   "execution_count": 37,
   "metadata": {},
   "outputs": [
    {
     "name": "stdout",
     "output_type": "stream",
     "text": [
      "8\n"
     ]
    }
   ],
   "source": [
    "num_bits_changed = 0\n",
    "a = data1 + crc1\n",
    "b = data2 + crc1\n",
    "for i in range(len(a)):\n",
    "    if a[i] != b[1]:\n",
    "        num_bits_changed +=1\n",
    "\n",
    "print(num_bits_changed)\n"
   ]
  },
  {
   "attachments": {},
   "cell_type": "markdown",
   "metadata": {},
   "source": [
    "This case happens only when the data has been modified in a special way that it happens to fool the CRC. In this case it requires 8 bit swaps. So the chance that this happens is ${10^{-2}}^8 = 10^{-16}$. That is there is a one in $10^{16}$ chance that this will happen."
   ]
  }
 ],
 "metadata": {
  "kernelspec": {
   "display_name": "Python 3",
   "language": "python",
   "name": "python3"
  },
  "language_info": {
   "codemirror_mode": {
    "name": "ipython",
    "version": 3
   },
   "file_extension": ".py",
   "mimetype": "text/x-python",
   "name": "python",
   "nbconvert_exporter": "python",
   "pygments_lexer": "ipython3",
   "version": "3.11.1"
  },
  "orig_nbformat": 4
 },
 "nbformat": 4,
 "nbformat_minor": 2
}
