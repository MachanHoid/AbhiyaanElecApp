{
 "cells": [
  {
   "cell_type": "code",
   "execution_count": null,
   "metadata": {},
   "outputs": [],
   "source": [
    "#We encode the faulty datasets from decimal to binary to analyse the data\n",
    "num_pins = 10\n",
    "def encode_binary(num, n):\n",
    "    return bin(num)[2:].rjust(n, '0')\n",
    "\n",
    "\n",
    "f1 = open(\"partd_dataset_fault1.txt\", 'r')\n",
    "f2 = open(\"partd_dataset_fault2.txt\", 'r')\n",
    "\n",
    "op1 = open(\"partd_encoded_fault1.txt\", 'w')\n",
    "op2 = open(\"partd_encoded_fault2.txt\", 'w')\n",
    "\n",
    "lines1 = f1.readlines()\n",
    "num_lines1 = len(lines1)\n",
    "lines2 = f2.readlines()\n",
    "num_lines2 = len(lines2)\n",
    "\n",
    "for i in range(num_lines1):\n",
    "    encoded_num = encode_binary(int(lines1[i]), num_pins)\n",
    "    op1.write(encoded_num + '\\n')\n",
    "\n",
    "for i in range(num_lines2):\n",
    "    encoded_num = encode_binary(int(lines2[i]), num_pins)\n",
    "    op2.write(encoded_num + '\\n')"
   ]
  },
  {
   "cell_type": "code",
   "execution_count": 76,
   "metadata": {},
   "outputs": [],
   "source": [
    "#Checking if one of the bits is always stuck at a constant value, indicating loose connection or incorrect wiring.\n",
    "def checkStaticBit(f, num_pins):\n",
    "    data = f.read().split()\n",
    "    bits_info = []\n",
    "    for _ in range(10): #because there are 10 bits, we want to store values of each bit in a seperate list\n",
    "        bits_info.append([])\n",
    "    for i in range(len(bits_info)):\n",
    "        for d in data:\n",
    "            bits_info[i].append(int(d[i]))\n",
    "        \n",
    "\n",
    "    for i in range(len(bits_info)):\n",
    "        #print(bits_info[i])\n",
    "        if all(bits_info[i]):\n",
    "            print(f'pin {num_pins - i} has a faulty connection. It only shows value of 1.')\n",
    "        \n",
    "        elif not(any(bits_info[i])):\n",
    "            print(f'pin {num_pins - i} has a faulty connection. It only shows value of 0.')"
   ]
  },
  {
   "cell_type": "code",
   "execution_count": 77,
   "metadata": {},
   "outputs": [
    {
     "name": "stdout",
     "output_type": "stream",
     "text": [
      "pin 9 has a faulty connection. It only shows value of 1.\n"
     ]
    }
   ],
   "source": [
    "f1e = open(\"partd_encoded_fault1.txt\", 'r')\n",
    "checkStaticBit(f1e, 10)"
   ]
  },
  {
   "attachments": {},
   "cell_type": "markdown",
   "metadata": {},
   "source": [
    "Trying something with f2e. trying to see the gray equivalent too see if the problem is because one contact pin touches the next before the other contact pin does, which is the exact problem that graycodes solve."
   ]
  },
  {
   "cell_type": "code",
   "execution_count": 79,
   "metadata": {},
   "outputs": [],
   "source": [
    "def bintogray(bin_num): #bin num is a str\n",
    "    graynum = bin_num[0]\n",
    "    for i in range(1, len(bin_num)):\n",
    "        graynum += str(int(bin_num[i-1]) ^ int(bin_num[i]))\n",
    "    return graynum\n",
    "\n",
    "\n",
    "def checkSomething(f, num_pins):\n",
    "    data = f.read().split()\n",
    "    graydata = list(map(bintogray, data))\n",
    "    return graydata"
   ]
  },
  {
   "cell_type": "code",
   "execution_count": 87,
   "metadata": {},
   "outputs": [],
   "source": [
    "f2e = open(\"partd_encoded_fault2.txt\", 'r')\n",
    "filey = open('partd_fault2_graycode.txt', 'w')\n",
    "\n",
    "newdata = checkSomething(f2e, 10)\n",
    "for line in newdata:\n",
    "    filey.write(line + '\\n')\n",
    "\n",
    "fileyread = open('partd_fault2_graycode.txt', 'r')\n",
    "checkStaticBit(fileyread, 10)"
   ]
  },
  {
   "attachments": {},
   "cell_type": "markdown",
   "metadata": {},
   "source": [
    "This does not seem to be correct. I dont think it has anything to do with that. We will try another approach.\n",
    "I think the error is due to loose contact. So the bit switched from 1 to 0 or vice versa rather quickly. To find this in the higher order bits, we can assume that the max change from one reading to the next is 100. Now we can search for all cases where this is not the case, and we can check which of the higher order bits has changed. We can flip this bit and draw the graphs again."
   ]
  }
 ],
 "metadata": {
  "kernelspec": {
   "display_name": "Python 3",
   "language": "python",
   "name": "python3"
  },
  "language_info": {
   "codemirror_mode": {
    "name": "ipython",
    "version": 3
   },
   "file_extension": ".py",
   "mimetype": "text/x-python",
   "name": "python",
   "nbconvert_exporter": "python",
   "pygments_lexer": "ipython3",
   "version": "3.11.1"
  },
  "orig_nbformat": 4,
  "vscode": {
   "interpreter": {
    "hash": "20e40d8fc09a6690434ad602c7eb2d8de15d36ec466bfbfb0de97c7c540d7363"
   }
  }
 },
 "nbformat": 4,
 "nbformat_minor": 2
}
